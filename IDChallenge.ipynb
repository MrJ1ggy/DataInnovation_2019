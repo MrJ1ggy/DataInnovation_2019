{
 "cells": [
  {
   "cell_type": "markdown",
   "metadata": {},
   "source": [
    "# Attempting to take the Data Innovation Challenge"
   ]
  },
  {
   "cell_type": "markdown",
   "metadata": {},
   "source": [
    "Import necessary libraries"
   ]
  },
  {
   "cell_type": "code",
   "execution_count": 1,
   "metadata": {},
   "outputs": [],
   "source": [
    "import pandas as pd\n",
    "import os,json\n",
    "import numpy as np\n",
    "import seaborn as sns\n",
    "import matplotlib as plt\n",
    "%matplotlib inline\n",
    "from matplotlib.pyplot import xticks"
   ]
  },
  {
   "cell_type": "markdown",
   "metadata": {},
   "source": [
    "Import the jason files into the dataframe"
   ]
  },
  {
   "cell_type": "code",
   "execution_count": 9,
   "metadata": {},
   "outputs": [],
   "source": [
    "path_to_json = 'C:\\DS\\Python-Data-Science-and-Machine-Learning-Bootcamp\\Innovation Challenge\\DS\\innovation'\n",
    "json_files = [pos_json for pos_json in os.listdir(path_to_json) if pos_json.endswith('.json')]\n"
   ]
  },
  {
   "cell_type": "code",
   "execution_count": null,
   "metadata": {},
   "outputs": [],
   "source": [
    "\n"
   ]
  },
  {
   "cell_type": "code",
   "execution_count": null,
   "metadata": {},
   "outputs": [],
   "source": []
  },
  {
   "cell_type": "markdown",
   "metadata": {},
   "source": [
    "Declare an empty dataframe with needed columns"
   ]
  },
  {
   "cell_type": "code",
   "execution_count": 35,
   "metadata": {
    "scrolled": true
   },
   "outputs": [],
   "source": [
    "#   json_data = pd.DataFrame(columns=['bwithbug','caseid', 'casestate','csone','date','defectcount','fduration','indexendtime','priority','problemcode','resolutioncode','subtech','table','technology'])\n",
    "\n",
    "# json_data = pd.DataFrame(columns=['bwithbug','caseid', 'casestate'])\n",
    "\n",
    "json_data = pd.DataFrame(columns=['bwithbug','caseid','casestate','date','technology','text'])\n",
    "\n"
   ]
  },
  {
   "cell_type": "markdown",
   "metadata": {},
   "source": [
    "Code to load **json files into the dataframe**"
   ]
  },
  {
   "cell_type": "code",
   "execution_count": 53,
   "metadata": {},
   "outputs": [],
   "source": [
    "for index, js in enumerate(json_files):\n",
    "    file_path = os.path.join(path_to_json, js)\n",
    "    with open(file_path, encoding=\"utf8\") as json_file:\n",
    "        json_text = json.load(json_file)\n",
    "        caseid = json_text[0]['caseid']\n",
    "        bwithbug = json_text[0]['bwithbug']\n",
    "        casestate = json_text[0]['casestate']\n",
    "        date = json_text[0]['date']\n",
    "#         problem_code = json_text[0]['problem_code']\n",
    "        technology = json_text[0]['technology']\n",
    "#         resolutionsummary = json_text[0]['resolutionsummary']\n",
    "        text = json_text[0]['text']\n",
    "       \n",
    "\n",
    "        # here you need to know the layout of your json and each json has to have\n",
    "        # the same structure (obviously not the structure I have here)\n",
    "        \n",
    "#         casestate = json_text[0]['casestate']\n",
    "#         bwithbug = json_text[0]['bwithbug']\n",
    "#         csone = json_text[0]['csone']\n",
    "#         date = json_text[0]['date']\n",
    "#         defectcount = json_text[0]['defectcount']\n",
    "#         fduration = json_text[0]['fduration']\n",
    "# #         icomplexity = json_text[0]['icomplexity']\n",
    "#         indexendtime = json_text[0]['indexendtime']\n",
    "# #         linkeddefects = json_text[0]['linkeddefects']\n",
    "#         priority = json_text[0]['priority']\n",
    "#         problemcode = json_text[0]['problemcode']\n",
    "# #         resolutioncode = json_text[0]['resolutioncode']\n",
    "# #         srserialnum = json_text[0]['srserialnum']\n",
    "#         subtech = json_text[0]['subtech']\n",
    "# #         swproducttype = json_text[0]['swproducttype']\n",
    "# #        swversion = json_text[0]['swversion']\n",
    "#         table = json_text[0]['table']\n",
    "#         technology = json_text[0]['technology']\n",
    "        \n",
    "#         json_data.loc[index] = [bwithbug,caseid,casestate,csone,date,defectcount,fduration,indexendtime,priority,problemcode,resolutioncode,subtech,table,technology]\n",
    "            \n",
    "        json_data.loc[index] = [bwithbug,caseid,casestate,date,technology,text]\n"
   ]
  },
  {
   "cell_type": "code",
   "execution_count": 54,
   "metadata": {},
   "outputs": [
    {
     "data": {
      "text/html": [
       "<div>\n",
       "<style scoped>\n",
       "    .dataframe tbody tr th:only-of-type {\n",
       "        vertical-align: middle;\n",
       "    }\n",
       "\n",
       "    .dataframe tbody tr th {\n",
       "        vertical-align: top;\n",
       "    }\n",
       "\n",
       "    .dataframe thead th {\n",
       "        text-align: right;\n",
       "    }\n",
       "</style>\n",
       "<table border=\"1\" class=\"dataframe\">\n",
       "  <thead>\n",
       "    <tr style=\"text-align: right;\">\n",
       "      <th></th>\n",
       "      <th>bwithbug</th>\n",
       "      <th>caseid</th>\n",
       "      <th>casestate</th>\n",
       "      <th>date</th>\n",
       "      <th>technology</th>\n",
       "      <th>text</th>\n",
       "    </tr>\n",
       "  </thead>\n",
       "  <tbody>\n",
       "    <tr>\n",
       "      <th>0</th>\n",
       "      <td>[true]</td>\n",
       "      <td>[683748427]</td>\n",
       "      <td>[Closed]</td>\n",
       "      <td>[Tue Jan 09 16:00:00 PST 2018]</td>\n",
       "      <td>[Security - Management]</td>\n",
       "      <td>[FMC4500-K9 // Issues with inline devices show...</td>\n",
       "    </tr>\n",
       "    <tr>\n",
       "      <th>1</th>\n",
       "      <td>[true]</td>\n",
       "      <td>[683791530]</td>\n",
       "      <td>[Closed]</td>\n",
       "      <td>[Tue Jan 16 16:00:00 PST 2018]</td>\n",
       "      <td>[Security - Network Firewalls and Intrusion Pr...</td>\n",
       "      <td>[FMCv {6.2.3.3} // User Identity is not workin...</td>\n",
       "    </tr>\n",
       "    <tr>\n",
       "      <th>2</th>\n",
       "      <td>[false]</td>\n",
       "      <td>[683964796]</td>\n",
       "      <td>[Closed w/o Customer Confirm]</td>\n",
       "      <td>[Mon Feb 12 16:00:00 PST 2018]</td>\n",
       "      <td>[Security - Network Firewalls and Intrusion Pr...</td>\n",
       "      <td>[FirePower AMP file/malware inspection of SMTP...</td>\n",
       "    </tr>\n",
       "    <tr>\n",
       "      <th>3</th>\n",
       "      <td>[true]</td>\n",
       "      <td>[684012635]</td>\n",
       "      <td>[Closed]</td>\n",
       "      <td>[Tue Feb 20 16:00:00 PST 2018]</td>\n",
       "      <td>[Security - Network Firewalls and Intrusion Pr...</td>\n",
       "      <td>[FTD-FPR/2130/6.2.3/Elephant flows detection/q...</td>\n",
       "    </tr>\n",
       "    <tr>\n",
       "      <th>4</th>\n",
       "      <td>[true]</td>\n",
       "      <td>[684016003]</td>\n",
       "      <td>[Closed]</td>\n",
       "      <td>[Tue Feb 20 16:00:00 PST 2018]</td>\n",
       "      <td>[Security - Network Firewalls and Intrusion Pr...</td>\n",
       "      <td>[(ESC)FMC2500/6.2.3.3/FTD5508-6.2.3.3/User map...</td>\n",
       "    </tr>\n",
       "  </tbody>\n",
       "</table>\n",
       "</div>"
      ],
      "text/plain": [
       "  bwithbug       caseid                      casestate  \\\n",
       "0   [true]  [683748427]                       [Closed]   \n",
       "1   [true]  [683791530]                       [Closed]   \n",
       "2  [false]  [683964796]  [Closed w/o Customer Confirm]   \n",
       "3   [true]  [684012635]                       [Closed]   \n",
       "4   [true]  [684016003]                       [Closed]   \n",
       "\n",
       "                             date  \\\n",
       "0  [Tue Jan 09 16:00:00 PST 2018]   \n",
       "1  [Tue Jan 16 16:00:00 PST 2018]   \n",
       "2  [Mon Feb 12 16:00:00 PST 2018]   \n",
       "3  [Tue Feb 20 16:00:00 PST 2018]   \n",
       "4  [Tue Feb 20 16:00:00 PST 2018]   \n",
       "\n",
       "                                          technology  \\\n",
       "0                            [Security - Management]   \n",
       "1  [Security - Network Firewalls and Intrusion Pr...   \n",
       "2  [Security - Network Firewalls and Intrusion Pr...   \n",
       "3  [Security - Network Firewalls and Intrusion Pr...   \n",
       "4  [Security - Network Firewalls and Intrusion Pr...   \n",
       "\n",
       "                                                text  \n",
       "0  [FMC4500-K9 // Issues with inline devices show...  \n",
       "1  [FMCv {6.2.3.3} // User Identity is not workin...  \n",
       "2  [FirePower AMP file/malware inspection of SMTP...  \n",
       "3  [FTD-FPR/2130/6.2.3/Elephant flows detection/q...  \n",
       "4  [(ESC)FMC2500/6.2.3.3/FTD5508-6.2.3.3/User map...  "
      ]
     },
     "execution_count": 54,
     "metadata": {},
     "output_type": "execute_result"
    }
   ],
   "source": [
    "json_data.head()"
   ]
  },
  {
   "cell_type": "code",
   "execution_count": 20,
   "metadata": {},
   "outputs": [
    {
     "name": "stdout",
     "output_type": "stream",
     "text": [
      "<class 'pandas.core.frame.DataFrame'>\n",
      "Int64Index: 1868 entries, 0 to 1867\n",
      "Data columns (total 6 columns):\n",
      "bwithbug      1868 non-null object\n",
      "caseid        1868 non-null object\n",
      "casestate     1868 non-null object\n",
      "date          1868 non-null object\n",
      "technology    1868 non-null object\n",
      "text          1868 non-null object\n",
      "dtypes: object(6)\n",
      "memory usage: 102.2+ KB\n"
     ]
    }
   ],
   "source": [
    "json_data.info()"
   ]
  },
  {
   "cell_type": "code",
   "execution_count": 55,
   "metadata": {},
   "outputs": [],
   "source": [
    "def rembrace(text):\n",
    "       return text[0]"
   ]
  },
  {
   "cell_type": "code",
   "execution_count": 56,
   "metadata": {},
   "outputs": [],
   "source": [
    "df = json_data"
   ]
  },
  {
   "cell_type": "code",
   "execution_count": 57,
   "metadata": {},
   "outputs": [],
   "source": [
    "df['bwithbug'] = df['bwithbug'].apply(rembrace)\n",
    "df['caseid'] = df['caseid'].apply(rembrace)\n",
    "df['casestate'] = df['casestate'].apply(rembrace)\n",
    "df['date'] = df['date'].apply(rembrace)\n",
    "df['technology'] = df['technology'].apply(rembrace)\n",
    "df['text'] = df['text'].apply(rembrace)\n"
   ]
  },
  {
   "cell_type": "code",
   "execution_count": 58,
   "metadata": {},
   "outputs": [
    {
     "data": {
      "text/html": [
       "<div>\n",
       "<style scoped>\n",
       "    .dataframe tbody tr th:only-of-type {\n",
       "        vertical-align: middle;\n",
       "    }\n",
       "\n",
       "    .dataframe tbody tr th {\n",
       "        vertical-align: top;\n",
       "    }\n",
       "\n",
       "    .dataframe thead th {\n",
       "        text-align: right;\n",
       "    }\n",
       "</style>\n",
       "<table border=\"1\" class=\"dataframe\">\n",
       "  <thead>\n",
       "    <tr style=\"text-align: right;\">\n",
       "      <th></th>\n",
       "      <th>bwithbug</th>\n",
       "      <th>caseid</th>\n",
       "      <th>casestate</th>\n",
       "      <th>date</th>\n",
       "      <th>technology</th>\n",
       "      <th>text</th>\n",
       "    </tr>\n",
       "  </thead>\n",
       "  <tbody>\n",
       "    <tr>\n",
       "      <th>0</th>\n",
       "      <td>true</td>\n",
       "      <td>683748427</td>\n",
       "      <td>Closed</td>\n",
       "      <td>Tue Jan 09 16:00:00 PST 2018</td>\n",
       "      <td>Security - Management</td>\n",
       "      <td>FMC4500-K9 // Issues with inline devices showi...</td>\n",
       "    </tr>\n",
       "    <tr>\n",
       "      <th>1</th>\n",
       "      <td>true</td>\n",
       "      <td>683791530</td>\n",
       "      <td>Closed</td>\n",
       "      <td>Tue Jan 16 16:00:00 PST 2018</td>\n",
       "      <td>Security - Network Firewalls and Intrusion Pre...</td>\n",
       "      <td>FMCv {6.2.3.3} // User Identity is not working...</td>\n",
       "    </tr>\n",
       "    <tr>\n",
       "      <th>2</th>\n",
       "      <td>false</td>\n",
       "      <td>683964796</td>\n",
       "      <td>Closed w/o Customer Confirm</td>\n",
       "      <td>Mon Feb 12 16:00:00 PST 2018</td>\n",
       "      <td>Security - Network Firewalls and Intrusion Pre...</td>\n",
       "      <td>FirePower AMP file/malware inspection of SMTP/...</td>\n",
       "    </tr>\n",
       "    <tr>\n",
       "      <th>3</th>\n",
       "      <td>true</td>\n",
       "      <td>684012635</td>\n",
       "      <td>Closed</td>\n",
       "      <td>Tue Feb 20 16:00:00 PST 2018</td>\n",
       "      <td>Security - Network Firewalls and Intrusion Pre...</td>\n",
       "      <td>FTD-FPR/2130/6.2.3/Elephant flows detection/qu...</td>\n",
       "    </tr>\n",
       "    <tr>\n",
       "      <th>4</th>\n",
       "      <td>true</td>\n",
       "      <td>684016003</td>\n",
       "      <td>Closed</td>\n",
       "      <td>Tue Feb 20 16:00:00 PST 2018</td>\n",
       "      <td>Security - Network Firewalls and Intrusion Pre...</td>\n",
       "      <td>(ESC)FMC2500/6.2.3.3/FTD5508-6.2.3.3/User mapp...</td>\n",
       "    </tr>\n",
       "  </tbody>\n",
       "</table>\n",
       "</div>"
      ],
      "text/plain": [
       "  bwithbug     caseid                    casestate  \\\n",
       "0     true  683748427                       Closed   \n",
       "1     true  683791530                       Closed   \n",
       "2    false  683964796  Closed w/o Customer Confirm   \n",
       "3     true  684012635                       Closed   \n",
       "4     true  684016003                       Closed   \n",
       "\n",
       "                           date  \\\n",
       "0  Tue Jan 09 16:00:00 PST 2018   \n",
       "1  Tue Jan 16 16:00:00 PST 2018   \n",
       "2  Mon Feb 12 16:00:00 PST 2018   \n",
       "3  Tue Feb 20 16:00:00 PST 2018   \n",
       "4  Tue Feb 20 16:00:00 PST 2018   \n",
       "\n",
       "                                          technology  \\\n",
       "0                              Security - Management   \n",
       "1  Security - Network Firewalls and Intrusion Pre...   \n",
       "2  Security - Network Firewalls and Intrusion Pre...   \n",
       "3  Security - Network Firewalls and Intrusion Pre...   \n",
       "4  Security - Network Firewalls and Intrusion Pre...   \n",
       "\n",
       "                                                text  \n",
       "0  FMC4500-K9 // Issues with inline devices showi...  \n",
       "1  FMCv {6.2.3.3} // User Identity is not working...  \n",
       "2  FirePower AMP file/malware inspection of SMTP/...  \n",
       "3  FTD-FPR/2130/6.2.3/Elephant flows detection/qu...  \n",
       "4  (ESC)FMC2500/6.2.3.3/FTD5508-6.2.3.3/User mapp...  "
      ]
     },
     "execution_count": 58,
     "metadata": {},
     "output_type": "execute_result"
    }
   ],
   "source": [
    "df.head()"
   ]
  },
  {
   "cell_type": "code",
   "execution_count": 45,
   "metadata": {},
   "outputs": [
    {
     "name": "stdout",
     "output_type": "stream",
     "text": [
      "<class 'pandas.core.frame.DataFrame'>\n",
      "Int64Index: 1868 entries, 0 to 1867\n",
      "Data columns (total 6 columns):\n",
      "bwithbug      1868 non-null object\n",
      "caseid        1868 non-null object\n",
      "casestate     1868 non-null object\n",
      "date          1868 non-null object\n",
      "technology    1868 non-null object\n",
      "text          1868 non-null object\n",
      "dtypes: object(6)\n",
      "memory usage: 102.2+ KB\n"
     ]
    }
   ],
   "source": [
    "df.info()"
   ]
  },
  {
   "cell_type": "code",
   "execution_count": 59,
   "metadata": {},
   "outputs": [],
   "source": [
    "df['bwithbug'] = df['bwithbug'].apply(str)"
   ]
  },
  {
   "cell_type": "code",
   "execution_count": 60,
   "metadata": {},
   "outputs": [
    {
     "data": {
      "text/html": [
       "<div>\n",
       "<style scoped>\n",
       "    .dataframe tbody tr th:only-of-type {\n",
       "        vertical-align: middle;\n",
       "    }\n",
       "\n",
       "    .dataframe tbody tr th {\n",
       "        vertical-align: top;\n",
       "    }\n",
       "\n",
       "    .dataframe thead th {\n",
       "        text-align: right;\n",
       "    }\n",
       "</style>\n",
       "<table border=\"1\" class=\"dataframe\">\n",
       "  <thead>\n",
       "    <tr style=\"text-align: right;\">\n",
       "      <th></th>\n",
       "      <th>bwithbug</th>\n",
       "      <th>caseid</th>\n",
       "      <th>casestate</th>\n",
       "      <th>date</th>\n",
       "      <th>technology</th>\n",
       "      <th>text</th>\n",
       "    </tr>\n",
       "  </thead>\n",
       "  <tbody>\n",
       "    <tr>\n",
       "      <th>0</th>\n",
       "      <td>true</td>\n",
       "      <td>683748427</td>\n",
       "      <td>Closed</td>\n",
       "      <td>Tue Jan 09 16:00:00 PST 2018</td>\n",
       "      <td>Security - Management</td>\n",
       "      <td>FMC4500-K9 // Issues with inline devices showi...</td>\n",
       "    </tr>\n",
       "    <tr>\n",
       "      <th>1</th>\n",
       "      <td>true</td>\n",
       "      <td>683791530</td>\n",
       "      <td>Closed</td>\n",
       "      <td>Tue Jan 16 16:00:00 PST 2018</td>\n",
       "      <td>Security - Network Firewalls and Intrusion Pre...</td>\n",
       "      <td>FMCv {6.2.3.3} // User Identity is not working...</td>\n",
       "    </tr>\n",
       "    <tr>\n",
       "      <th>2</th>\n",
       "      <td>false</td>\n",
       "      <td>683964796</td>\n",
       "      <td>Closed w/o Customer Confirm</td>\n",
       "      <td>Mon Feb 12 16:00:00 PST 2018</td>\n",
       "      <td>Security - Network Firewalls and Intrusion Pre...</td>\n",
       "      <td>FirePower AMP file/malware inspection of SMTP/...</td>\n",
       "    </tr>\n",
       "    <tr>\n",
       "      <th>3</th>\n",
       "      <td>true</td>\n",
       "      <td>684012635</td>\n",
       "      <td>Closed</td>\n",
       "      <td>Tue Feb 20 16:00:00 PST 2018</td>\n",
       "      <td>Security - Network Firewalls and Intrusion Pre...</td>\n",
       "      <td>FTD-FPR/2130/6.2.3/Elephant flows detection/qu...</td>\n",
       "    </tr>\n",
       "    <tr>\n",
       "      <th>4</th>\n",
       "      <td>true</td>\n",
       "      <td>684016003</td>\n",
       "      <td>Closed</td>\n",
       "      <td>Tue Feb 20 16:00:00 PST 2018</td>\n",
       "      <td>Security - Network Firewalls and Intrusion Pre...</td>\n",
       "      <td>(ESC)FMC2500/6.2.3.3/FTD5508-6.2.3.3/User mapp...</td>\n",
       "    </tr>\n",
       "  </tbody>\n",
       "</table>\n",
       "</div>"
      ],
      "text/plain": [
       "  bwithbug     caseid                    casestate  \\\n",
       "0     true  683748427                       Closed   \n",
       "1     true  683791530                       Closed   \n",
       "2    false  683964796  Closed w/o Customer Confirm   \n",
       "3     true  684012635                       Closed   \n",
       "4     true  684016003                       Closed   \n",
       "\n",
       "                           date  \\\n",
       "0  Tue Jan 09 16:00:00 PST 2018   \n",
       "1  Tue Jan 16 16:00:00 PST 2018   \n",
       "2  Mon Feb 12 16:00:00 PST 2018   \n",
       "3  Tue Feb 20 16:00:00 PST 2018   \n",
       "4  Tue Feb 20 16:00:00 PST 2018   \n",
       "\n",
       "                                          technology  \\\n",
       "0                              Security - Management   \n",
       "1  Security - Network Firewalls and Intrusion Pre...   \n",
       "2  Security - Network Firewalls and Intrusion Pre...   \n",
       "3  Security - Network Firewalls and Intrusion Pre...   \n",
       "4  Security - Network Firewalls and Intrusion Pre...   \n",
       "\n",
       "                                                text  \n",
       "0  FMC4500-K9 // Issues with inline devices showi...  \n",
       "1  FMCv {6.2.3.3} // User Identity is not working...  \n",
       "2  FirePower AMP file/malware inspection of SMTP/...  \n",
       "3  FTD-FPR/2130/6.2.3/Elephant flows detection/qu...  \n",
       "4  (ESC)FMC2500/6.2.3.3/FTD5508-6.2.3.3/User mapp...  "
      ]
     },
     "execution_count": 60,
     "metadata": {},
     "output_type": "execute_result"
    }
   ],
   "source": [
    "df.head()"
   ]
  },
  {
   "cell_type": "code",
   "execution_count": 96,
   "metadata": {},
   "outputs": [
    {
     "data": {
      "text/plain": [
       "<matplotlib.legend.Legend at 0x21da20b6f28>"
      ]
     },
     "execution_count": 96,
     "metadata": {},
     "output_type": "execute_result"
    },
    {
     "data": {
      "image/png": "[encoded data removed]",
      "text/plain": [
       "<Figure size 432x288 with 1 Axes>"
      ]
     },
     "metadata": {
      "needs_background": "light"
     },
     "output_type": "display_data"
    }
   ],
   "source": [
    "ax = sns.countplot(x='bwithbug',data=df,hue='casestate')\n",
    "for p in ax.patches:\n",
    "     ax.annotate(p.get_height(), (p.get_x()+0.15, p.get_height()+1))\n",
    "xticks(rotation=90)\n",
    "ax.legend(loc=1,bbox_to_anchor=(2, 0., 0.5, 0.5))"
   ]
  },
  {
   "cell_type": "code",
   "execution_count": 93,
   "metadata": {},
   "outputs": [
    {
     "data": {
      "text/plain": [
       "<matplotlib.legend.Legend at 0x21da209d6a0>"
      ]
     },
     "execution_count": 93,
     "metadata": {},
     "output_type": "execute_result"
    },
    {
     "data": {
      "image/png": "[encoded data removed]",
      "text/plain": [
       "<Figure size 432x288 with 1 Axes>"
      ]
     },
     "metadata": {
      "needs_background": "light"
     },
     "output_type": "display_data"
    }
   ],
   "source": [
    "ax = sns.countplot(x='casestate',data=df,hue='bwithbug')\n",
    "for p in ax.patches:\n",
    "     ax.annotate(p.get_height(), (p.get_x()+0.15, p.get_height()+1))\n",
    "xticks(rotation=90)\n",
    "ax.legend(loc=1)"
   ]
  },
  {
   "cell_type": "code",
   "execution_count": 88,
   "metadata": {},
   "outputs": [
    {
     "data": {
      "text/plain": [
       "(array([0, 1, 2]), <a list of 3 Text xticklabel objects>)"
      ]
     },
     "execution_count": 88,
     "metadata": {},
     "output_type": "execute_result"
    },
    {
     "data": {
      "image/png": "[encoded data removed]",
      "text/plain": [
       "<Figure size 432x288 with 1 Axes>"
      ]
     },
     "metadata": {
      "needs_background": "light"
     },
     "output_type": "display_data"
    }
   ],
   "source": [
    "ax = sns.countplot(x='technology',data=df)\n",
    "for p in ax.patches:\n",
    "     ax.annotate(p.get_height(), (p.get_x()+0.15, p.get_height()+1))\n",
    "xticks(rotation=90)"
   ]
  },
  {
   "cell_type": "code",
   "execution_count": 97,
   "metadata": {},
   "outputs": [],
   "source": [
    "df[\"lentext\"] = df[\"text\"].apply(len)"
   ]
  },
  {
   "cell_type": "code",
   "execution_count": 98,
   "metadata": {},
   "outputs": [
    {
     "data": {
      "text/html": [
       "<div>\n",
       "<style scoped>\n",
       "    .dataframe tbody tr th:only-of-type {\n",
       "        vertical-align: middle;\n",
       "    }\n",
       "\n",
       "    .dataframe tbody tr th {\n",
       "        vertical-align: top;\n",
       "    }\n",
       "\n",
       "    .dataframe thead th {\n",
       "        text-align: right;\n",
       "    }\n",
       "</style>\n",
       "<table border=\"1\" class=\"dataframe\">\n",
       "  <thead>\n",
       "    <tr style=\"text-align: right;\">\n",
       "      <th></th>\n",
       "      <th>bwithbug</th>\n",
       "      <th>caseid</th>\n",
       "      <th>casestate</th>\n",
       "      <th>date</th>\n",
       "      <th>technology</th>\n",
       "      <th>text</th>\n",
       "      <th>lentext</th>\n",
       "    </tr>\n",
       "  </thead>\n",
       "  <tbody>\n",
       "    <tr>\n",
       "      <th>0</th>\n",
       "      <td>true</td>\n",
       "      <td>683748427</td>\n",
       "      <td>Closed</td>\n",
       "      <td>Tue Jan 09 16:00:00 PST 2018</td>\n",
       "      <td>Security - Management</td>\n",
       "      <td>FMC4500-K9 // Issues with inline devices showi...</td>\n",
       "      <td>958220</td>\n",
       "    </tr>\n",
       "    <tr>\n",
       "      <th>1</th>\n",
       "      <td>true</td>\n",
       "      <td>683791530</td>\n",
       "      <td>Closed</td>\n",
       "      <td>Tue Jan 16 16:00:00 PST 2018</td>\n",
       "      <td>Security - Network Firewalls and Intrusion Pre...</td>\n",
       "      <td>FMCv {6.2.3.3} // User Identity is not working...</td>\n",
       "      <td>642332</td>\n",
       "    </tr>\n",
       "    <tr>\n",
       "      <th>2</th>\n",
       "      <td>false</td>\n",
       "      <td>683964796</td>\n",
       "      <td>Closed w/o Customer Confirm</td>\n",
       "      <td>Mon Feb 12 16:00:00 PST 2018</td>\n",
       "      <td>Security - Network Firewalls and Intrusion Pre...</td>\n",
       "      <td>FirePower AMP file/malware inspection of SMTP/...</td>\n",
       "      <td>74361</td>\n",
       "    </tr>\n",
       "    <tr>\n",
       "      <th>3</th>\n",
       "      <td>true</td>\n",
       "      <td>684012635</td>\n",
       "      <td>Closed</td>\n",
       "      <td>Tue Feb 20 16:00:00 PST 2018</td>\n",
       "      <td>Security - Network Firewalls and Intrusion Pre...</td>\n",
       "      <td>FTD-FPR/2130/6.2.3/Elephant flows detection/qu...</td>\n",
       "      <td>1115134</td>\n",
       "    </tr>\n",
       "    <tr>\n",
       "      <th>4</th>\n",
       "      <td>true</td>\n",
       "      <td>684016003</td>\n",
       "      <td>Closed</td>\n",
       "      <td>Tue Feb 20 16:00:00 PST 2018</td>\n",
       "      <td>Security - Network Firewalls and Intrusion Pre...</td>\n",
       "      <td>(ESC)FMC2500/6.2.3.3/FTD5508-6.2.3.3/User mapp...</td>\n",
       "      <td>146320</td>\n",
       "    </tr>\n",
       "  </tbody>\n",
       "</table>\n",
       "</div>"
      ],
      "text/plain": [
       "  bwithbug     caseid                    casestate  \\\n",
       "0     true  683748427                       Closed   \n",
       "1     true  683791530                       Closed   \n",
       "2    false  683964796  Closed w/o Customer Confirm   \n",
       "3     true  684012635                       Closed   \n",
       "4     true  684016003                       Closed   \n",
       "\n",
       "                           date  \\\n",
       "0  Tue Jan 09 16:00:00 PST 2018   \n",
       "1  Tue Jan 16 16:00:00 PST 2018   \n",
       "2  Mon Feb 12 16:00:00 PST 2018   \n",
       "3  Tue Feb 20 16:00:00 PST 2018   \n",
       "4  Tue Feb 20 16:00:00 PST 2018   \n",
       "\n",
       "                                          technology  \\\n",
       "0                              Security - Management   \n",
       "1  Security - Network Firewalls and Intrusion Pre...   \n",
       "2  Security - Network Firewalls and Intrusion Pre...   \n",
       "3  Security - Network Firewalls and Intrusion Pre...   \n",
       "4  Security - Network Firewalls and Intrusion Pre...   \n",
       "\n",
       "                                                text  lentext  \n",
       "0  FMC4500-K9 // Issues with inline devices showi...   958220  \n",
       "1  FMCv {6.2.3.3} // User Identity is not working...   642332  \n",
       "2  FirePower AMP file/malware inspection of SMTP/...    74361  \n",
       "3  FTD-FPR/2130/6.2.3/Elephant flows detection/qu...  1115134  \n",
       "4  (ESC)FMC2500/6.2.3.3/FTD5508-6.2.3.3/User mapp...   146320  "
      ]
     },
     "execution_count": 98,
     "metadata": {},
     "output_type": "execute_result"
    }
   ],
   "source": [
    "df.head()"
   ]
  },
  {
   "cell_type": "code",
   "execution_count": 108,
   "metadata": {},
   "outputs": [
    {
     "data": {
      "text/plain": [
       "<matplotlib.axes._subplots.AxesSubplot at 0x21da7db8390>"
      ]
     },
     "execution_count": 108,
     "metadata": {},
     "output_type": "execute_result"
    },
    {
     "data": {
      "image/png": "[encoded data removed]",
      "text/plain": [
       "<Figure size 432x288 with 1 Axes>"
      ]
     },
     "metadata": {
      "needs_background": "light"
     },
     "output_type": "display_data"
    }
   ],
   "source": [
    "df['lentext'].plot(bins=50, kind='hist') "
   ]
  },
  {
   "cell_type": "code",
   "execution_count": 112,
   "metadata": {},
   "outputs": [
    {
     "data": {
      "text/plain": [
       "array([<matplotlib.axes._subplots.AxesSubplot object at 0x0000021DA9234908>,\n",
       "       <matplotlib.axes._subplots.AxesSubplot object at 0x0000021DA8031DD8>],\n",
       "      dtype=object)"
      ]
     },
     "execution_count": 112,
     "metadata": {},
     "output_type": "execute_result"
    },
    {
     "data": {
      "image/png": "[encoded data removed]",
      "text/plain": [
       "<Figure size 864x288 with 2 Axes>"
      ]
     },
     "metadata": {
      "needs_background": "light"
     },
     "output_type": "display_data"
    }
   ],
   "source": [
    "df.hist(column='lentext',by='bwithbug',bins=100,figsize=(12,4))"
   ]
  },
  {
   "cell_type": "code",
   "execution_count": 124,
   "metadata": {},
   "outputs": [
    {
     "data": {
      "image/png": "[encoded data removed]",
      "text/plain": [
       "<Figure size 864x360 with 3 Axes>"
      ]
     },
     "metadata": {
      "needs_background": "light"
     },
     "output_type": "display_data"
    }
   ],
   "source": [
    "ax = df.hist(column='lentext',by='technology',bins=50,figsize=(12,5),layout=(1,3))"
   ]
  },
  {
   "cell_type": "code",
   "execution_count": 125,
   "metadata": {},
   "outputs": [],
   "source": [
    "df.to_csv(\"Datav1.csv\")"
   ]
  },
  {
   "cell_type": "code",
   "execution_count": null,
   "metadata": {},
   "outputs": [],
   "source": [
    "def text_process(mess):\n",
    "    \"\"\"\n",
    "    Takes in a string of text, then performs the following:\n",
    "    1. Remove all punctuation\n",
    "    2. Remove all stopwords\n",
    "    3. Returns a list of the cleaned text\n",
    "    \"\"\"\n",
    "    # Check characters to see if they are in punctuation\n",
    "    nopunc = [char for char in mess if char not in string.punctuation]\n",
    "\n",
    "    # Join the characters again to form the string.\n",
    "    nopunc = ''.join(nopunc)\n",
    "    \n",
    "    # Now just remove any stopwords\n",
    "    return [word for word in nopunc.split() if word.lower() not in stopwords.words('english')]"
   ]
  },
  {
   "cell_type": "code",
   "execution_count": null,
   "metadata": {},
   "outputs": [],
   "source": [
    "str = \"hi this is a text\"\n",
    "print(len(str))"
   ]
  },
  {
   "cell_type": "code",
   "execution_count": null,
   "metadata": {},
   "outputs": [],
   "source": []
  }
 ],
 "metadata": {
  "kernelspec": {
   "display_name": "Python 3",
   "language": "python",
   "name": "python3"
  },
  "language_info": {
   "codemirror_mode": {
    "name": "ipython",
    "version": 3
   },
   "file_extension": ".py",
   "mimetype": "text/x-python",
   "name": "python",
   "nbconvert_exporter": "python",
   "pygments_lexer": "ipython3",
   "version": "3.7.1"
  }
 },
 "nbformat": 4,
 "nbformat_minor": 2
}
